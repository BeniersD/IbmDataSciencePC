{
 "cells": [
  {
   "cell_type": "markdown",
   "id": "982e11d8-706c-4d65-b919-0f510413b7bf",
   "metadata": {},
   "source": [
    "# Data Science Tools and Ecosystem"
   ]
  },
  {
   "cell_type": "markdown",
   "id": "ea173a02-054d-4edc-b1ac-d348ac8a331e",
   "metadata": {},
   "source": [
    "<font color='purple'>In this notebook, Data Science Tools and Ecosystem are summarized.</font>"
   ]
  },
  {
   "cell_type": "markdown",
   "id": "b3815810-530e-4c77-a7b1-2d5310901aa4",
   "metadata": {},
   "source": [
    "Some of the popular languages that Data Scientists use are:"
   ]
  },
  {
   "cell_type": "markdown",
   "id": "8dda27e0-9065-49cb-a7ab-ab1369f773ee",
   "metadata": {},
   "source": [
    "1. Python\n",
    "2. R\n",
    "3. Scala\n",
    "4. Java\n",
    "5. C++\n",
    "6. Julia"
   ]
  },
  {
   "cell_type": "markdown",
   "id": "5d84c92e-6477-447e-b73a-9a51c7066489",
   "metadata": {},
   "source": [
    "Some of the commonly used libraries used by Data Scientists include:"
   ]
  },
  {
   "cell_type": "markdown",
   "id": "0f56c495-06f4-467c-9535-e50955b3fc0e",
   "metadata": {},
   "source": [
    "1. Pandas\n",
    "2. NumPy\n",
    "3. SciPy\n",
    "4. Matplotlib"
   ]
  },
  {
   "cell_type": "markdown",
   "id": "b9e1b737-af83-4eae-ac02-c28aefeaefed",
   "metadata": {},
   "source": [
    "| Data Science Tools |\n",
    "| --- |\n",
    "| Jupyter |\n",
    "| RStudio |\n",
    "| Spyder |"
   ]
  },
  {
   "cell_type": "markdown",
   "id": "1fda3963-9674-44b2-bd21-0916264b7a68",
   "metadata": {},
   "source": [
    "### Below are a few examples of evaluating arithmetic expressions in Python"
   ]
  },
  {
   "cell_type": "code",
   "execution_count": null,
   "id": "861f178b-48de-4fd3-b1c6-a3bcc02423d9",
   "metadata": {},
   "outputs": [],
   "source": [
    "This a simple arithmetic expression to mutiply then add integers"
   ]
  },
  {
   "cell_type": "code",
   "execution_count": 9,
   "id": "b3fb60e8-d978-4724-9479-64faadc90094",
   "metadata": {},
   "outputs": [
    {
     "data": {
      "text/plain": [
       "17"
      ]
     },
     "execution_count": 9,
     "metadata": {},
     "output_type": "execute_result"
    }
   ],
   "source": [
    "(3*4)+5"
   ]
  },
  {
   "cell_type": "markdown",
   "id": "2cc6a5b8-4a0c-4678-a5f8-0d37b217d2bb",
   "metadata": {},
   "source": [
    "This will convert 200 minutes to hours by diving by 60"
   ]
  },
  {
   "cell_type": "code",
   "execution_count": 37,
   "id": "b7f176a0-052b-463d-8dd2-8d7500a9ae2d",
   "metadata": {},
   "outputs": [
    {
     "name": "stdout",
     "output_type": "stream",
     "text": [
      "3 hours and 20 minutes\n"
     ]
    }
   ],
   "source": [
    "hours = 200 // 60;\n",
    "minutes = 200 % 60;\n",
    "\n",
    "print(hours, \"hours and\", minutes,\"minutes\");"
   ]
  },
  {
   "cell_type": "markdown",
   "id": "529bbdc0-7577-47d5-b121-e228ab21407b",
   "metadata": {},
   "source": [
    "**Objectives:**"
   ]
  },
  {
   "cell_type": "markdown",
   "id": "7d7b0708-3961-4ad7-b09f-a72dfca7e827",
   "metadata": {},
   "source": [
    "* List popular languages for Data Science\n",
    "* List commonly used libraries used by Data Scientists\n",
    "* Table Data Science Tools\n",
    "* Examples of simple arithmetic expression to mutiply then add integers in Python\n",
    "* Examples to convert 200 minutes to hours by diving by 60 in Python"
   ]
  },
  {
   "cell_type": "markdown",
   "id": "800a6364-d25b-4353-b904-0c8543b3d537",
   "metadata": {},
   "source": [
    "## Author"
   ]
  },
  {
   "cell_type": "markdown",
   "id": "9d466de9-56ec-4814-b42b-26ddcf7b6192",
   "metadata": {},
   "source": [
    "David Beniers"
   ]
  },
  {
   "cell_type": "code",
   "execution_count": null,
   "id": "897b0380-866c-45a5-bf70-44b78162ab3c",
   "metadata": {},
   "outputs": [],
   "source": []
  }
 ],
 "metadata": {
  "kernelspec": {
   "display_name": "Python 3 (ipykernel)",
   "language": "python",
   "name": "python3"
  },
  "language_info": {
   "codemirror_mode": {
    "name": "ipython",
    "version": 3
   },
   "file_extension": ".py",
   "mimetype": "text/x-python",
   "name": "python",
   "nbconvert_exporter": "python",
   "pygments_lexer": "ipython3",
   "version": "3.11.7"
  }
 },
 "nbformat": 4,
 "nbformat_minor": 5
}
